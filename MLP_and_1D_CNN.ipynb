{
  "nbformat": 4,
  "nbformat_minor": 0,
  "metadata": {
    "colab": {
      "provenance": [],
      "authorship_tag": "ABX9TyNdcl8sS2jmllWlZCkU0f94",
      "include_colab_link": true
    },
    "kernelspec": {
      "name": "python3",
      "display_name": "Python 3"
    },
    "language_info": {
      "name": "python"
    }
  },
  "cells": [
    {
      "cell_type": "markdown",
      "metadata": {
        "id": "view-in-github",
        "colab_type": "text"
      },
      "source": [
        "<a href=\"https://colab.research.google.com/github/Marcello-Bacchi/ML_exam_unipv/blob/main/MLP_and_1D_CNN.ipynb\" target=\"_parent\"><img src=\"https://colab.research.google.com/assets/colab-badge.svg\" alt=\"Open In Colab\"/></a>"
      ]
    },
    {
      "cell_type": "markdown",
      "source": [
        "# titolo"
      ],
      "metadata": {
        "id": "Umdzcsn8ktm6"
      }
    },
    {
      "cell_type": "code",
      "source": [
        "import numpy as np\n",
        "import matplotlib.pyplot as plt\n",
        "import h5py"
      ],
      "metadata": {
        "id": "033fWgGTkmGE"
      },
      "execution_count": null,
      "outputs": []
    },
    {
      "cell_type": "markdown",
      "source": [
        "# Train and validation data preparation\n"
      ],
      "metadata": {
        "id": "y-RTVOnJkSIh"
      }
    },
    {
      "cell_type": "code",
      "execution_count": null,
      "metadata": {
        "id": "-77ZmNYEjtmx"
      },
      "outputs": [],
      "source": [
        "! git clone https://github.com/Marcello-Bacchi/ML_exam_unipv.git\n",
        "! curl https://github.com/Marcello-Bacchi/ML_exam_unipv.git"
      ]
    },
    {
      "cell_type": "code",
      "source": [
        "datafile = '/content/ML_exam_unipv/resonances_dataset.h5'\n",
        "\n",
        "f = h5py.File(datafile)\n",
        "print(f.keys())"
      ],
      "metadata": {
        "id": "1zmPQnOWj8_O"
      },
      "execution_count": null,
      "outputs": []
    },
    {
      "cell_type": "code",
      "source": [
        "features = np.array(f.get('resonances')[:,0:2000])\n",
        "target = np.array(f.get('resonances')[:,-1])\n",
        "\n",
        "print(target.shape, features.shape)"
      ],
      "metadata": {
        "id": "LpCaaEchj_j3"
      },
      "execution_count": null,
      "outputs": []
    },
    {
      "cell_type": "code",
      "source": [
        "from sklearn.model_selection import train_test_split\n",
        "X_train, X_val, y_train, y_val = train_test_split(features, target, test_size=0.33)\n",
        "print(X_train.shape, X_val.shape, y_train.shape, y_val.shape)\n",
        "del features, target"
      ],
      "metadata": {
        "id": "nMKxfnIskDXW"
      },
      "execution_count": null,
      "outputs": []
    },
    {
      "cell_type": "markdown",
      "source": [
        "# MLP model"
      ],
      "metadata": {
        "id": "tfiQ6pnak-ZY"
      }
    },
    {
      "cell_type": "code",
      "source": [
        "from tensorflow.keras.models import Model\n",
        "from tensorflow.keras.layers import Dense, Input, Dropout, Flatten, Activation\n",
        "from tensorflow.keras.utils import plot_model\n",
        "from tensorflow.keras import backend as K\n",
        "from tensorflow.keras import metrics\n",
        "from tensorflow.keras.callbacks import EarlyStopping, ReduceLROnPlateau, TerminateOnNaN"
      ],
      "metadata": {
        "id": "fx8ybFDjk8kd"
      },
      "execution_count": null,
      "outputs": []
    },
    {
      "cell_type": "code",
      "source": [
        "input_shape = X_train.shape[1]\n",
        "dropoutRate = 0.25\n",
        "\n",
        "inputArray = Input(shape=(input_shape))\n",
        "\n",
        "######### FIRST LAYER ##########\n",
        "x = Dense(30, activation='relu')(inputArray)\n",
        "x = Dropout(dropoutRate)(x)\n",
        "\n",
        "######### SECOND LAYER ##########\n",
        "x = Dense(20)(x)\n",
        "x = Activation('relu')(x)\n",
        "x = Dropout(dropoutRate)(x)\n",
        "\n",
        "output = Dense(1, activation='sigmoid')(x)\n",
        "\n",
        "model = Model(inputs=inputArray, outputs=output)\n",
        "\n",
        "\n",
        "model.compile(loss='binary_crossentropy', optimizer='adam')\n",
        "model.summary()"
      ],
      "metadata": {
        "id": "ssnXtUm4lLA3"
      },
      "execution_count": null,
      "outputs": []
    },
    {
      "cell_type": "code",
      "source": [
        "batch_size = 128\n",
        "n_epochs = 50\n",
        "\n",
        "# train\n",
        "history = model.fit(X_train, y_train, epochs=n_epochs, batch_size=batch_size, verbose = 2,\n",
        "                validation_data=(X_val, y_val),\n",
        "                callbacks = [\n",
        "                EarlyStopping(monitor='val_loss', patience=10, verbose=1),\n",
        "                ReduceLROnPlateau(monitor='val_loss', factor=0.1, patience=2, verbose=1),\n",
        "                TerminateOnNaN()])"
      ],
      "metadata": {
        "id": "9CE9qLxJlxg7"
      },
      "execution_count": null,
      "outputs": []
    },
    {
      "cell_type": "markdown",
      "source": [
        "# Results"
      ],
      "metadata": {
        "id": "Mz1TM4QfmAew"
      }
    },
    {
      "cell_type": "code",
      "source": [
        "# plot training history\n",
        "plt.plot(history.history['loss'])\n",
        "plt.plot(history.history['val_loss'])\n",
        "plt.yscale('log')\n",
        "plt.title('Training History')\n",
        "plt.ylabel('loss')\n",
        "plt.xlabel('epoch')\n",
        "plt.legend(['training', 'validation'], loc='upper right')\n",
        "plt.show()"
      ],
      "metadata": {
        "id": "D8EowJxhmEMY"
      },
      "execution_count": null,
      "outputs": []
    },
    {
      "cell_type": "code",
      "source": [
        "from sklearn.metrics import roc_curve, auc\n",
        "\n",
        "predict_val = model.predict(X_val)\n",
        "\n",
        "fpr = {}\n",
        "tpr = {}\n",
        "auc1 = {}\n",
        "#label='%s tagger, auc = %.1f%%'%(label,auc1[label]*100.)\n",
        "#plt.figure()\n",
        "fpr, tpr, threshold = roc_curve(y_val, predict_val)\n",
        "auc1 = auc(fpr, tpr)\n",
        "\n",
        "plt.plot(tpr, fpr)\n",
        "plt.semilogy()\n",
        "plt.xlabel(\"sig. efficiency\")\n",
        "plt.ylabel(\"bkg. mistag rate\")\n",
        "plt.ylim(0.000001,1)\n",
        "plt.grid(True)\n",
        "plt.legend(loc='lower right')\n",
        "plt.show()\n",
        "\n",
        "print(auc1)"
      ],
      "metadata": {
        "id": "uEtsIC_DmJkw"
      },
      "execution_count": null,
      "outputs": []
    }
  ]
}