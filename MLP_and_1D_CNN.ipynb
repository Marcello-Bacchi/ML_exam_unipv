{
  "cells": [
    {
      "cell_type": "markdown",
      "metadata": {
        "id": "Umdzcsn8ktm6"
      },
      "source": [
        "# Resonances classification via MLP and CNN"
      ]
    },
    {
      "cell_type": "code",
      "execution_count": 1,
      "metadata": {
        "id": "033fWgGTkmGE"
      },
      "outputs": [],
      "source": [
        "import numpy as np\n",
        "import matplotlib.pyplot as plt\n",
        "import h5py"
      ]
    },
    {
      "cell_type": "markdown",
      "metadata": {
        "id": "y-RTVOnJkSIh"
      },
      "source": [
        "# Train and validation data preparation\n"
      ]
    },
    {
      "cell_type": "code",
      "execution_count": 2,
      "metadata": {
        "colab": {
          "base_uri": "https://localhost:8080/"
        },
        "id": "-77ZmNYEjtmx",
        "outputId": "80acdef7-917f-4dda-f4cc-338784d49931"
      },
      "outputs": [
        {
          "name": "stdout",
          "output_type": "stream",
          "text": [
            "Cloning into 'ML_exam_unipv'...\n",
            "remote: Enumerating objects: 101, done.\u001b[K\n",
            "remote: Counting objects: 100% (14/14), done.\u001b[K\n",
            "remote: Compressing objects: 100% (12/12), done.\u001b[K\n",
            "remote: Total 101 (delta 5), reused 7 (delta 2), pack-reused 87\u001b[K\n",
            "Receiving objects: 100% (101/101), 115.40 MiB | 11.64 MiB/s, done.\n",
            "Resolving deltas: 100% (83/83), done.\n",
            "Updating files: 100% (85/85), done.\n",
            "<html>\n",
            "<head><title>301 Moved Permanently</title></head>\n",
            "<body>\n",
            "<center><h1>301 Moved Permanently</h1></center>\n",
            "<hr><center>nginx</center>\n",
            "</body>\n",
            "</html>\n"
          ]
        }
      ],
      "source": [
        "! git clone https://github.com/Marcello-Bacchi/ML_exam_unipv.git\n",
        "! curl https://github.com/Marcello-Bacchi/ML_exam_unipv.git"
      ]
    },
    {
      "cell_type": "code",
      "execution_count": 3,
      "metadata": {
        "colab": {
          "base_uri": "https://localhost:8080/"
        },
        "id": "1zmPQnOWj8_O",
        "outputId": "005da908-c828-4997-c848-d539c6467ddf"
      },
      "outputs": [
        {
          "name": "stdout",
          "output_type": "stream",
          "text": [
            "<KeysViewHDF5 ['resonances']>\n"
          ]
        }
      ],
      "source": [
        "datafile = '/content/ML_exam_unipv/resonances_dataset.h5'\n",
        "\n",
        "f = h5py.File(datafile)\n",
        "print(f.keys())"
      ]
    },
    {
      "cell_type": "code",
      "execution_count": 4,
      "metadata": {
        "colab": {
          "base_uri": "https://localhost:8080/"
        },
        "id": "LpCaaEchj_j3",
        "outputId": "3029d081-9eac-4cf7-a743-e065770f99dd"
      },
      "outputs": [
        {
          "name": "stdout",
          "output_type": "stream",
          "text": [
            "(3000,) (3000, 2000)\n",
            "(3000, 1, 1) (3000, 2000, 1)\n"
          ]
        }
      ],
      "source": [
        "##### Define vectors for MLP model ######\n",
        "\n",
        "features_MLP = np.array(f.get('resonances')[:,0:2000])\n",
        "target_MLP = np.array(f.get('resonances')[:,-1])\n",
        "\n",
        "print(target_MLP.shape, features_MLP.shape)\n",
        "\n",
        "\n",
        "##### Define vectors for CNN model ######\n",
        "\n",
        "features_CNN = np.reshape(features_MLP,(-1,2000,1))\n",
        "target_CNN = np.reshape(target_MLP,(-1,1,1))\n",
        "\n",
        "print(target_CNN.shape, features_CNN.shape)"
      ]
    },
    {
      "cell_type": "code",
      "execution_count": 5,
      "metadata": {
        "colab": {
          "base_uri": "https://localhost:8080/"
        },
        "id": "nMKxfnIskDXW",
        "outputId": "8dd64b42-8f69-44d5-aad8-8feea388adab"
      },
      "outputs": [
        {
          "name": "stdout",
          "output_type": "stream",
          "text": [
            "(2010, 2000) (990, 2000) (2010,) (990,)\n"
          ]
        }
      ],
      "source": [
        "######### Data shuffle with 2:1 splitting ratio MLP ##########\n",
        "\n",
        "from sklearn.model_selection import train_test_split\n",
        "X_train_MLP, X_val_MLP, y_train_MLP, y_val_MLP = train_test_split(features_MLP, target_MLP, test_size=0.33)\n",
        "print(X_train_MLP.shape, X_val_MLP.shape, y_train_MLP.shape, y_val_MLP.shape)\n",
        "del features_MLP, target_MLP"
      ]
    },
    {
      "cell_type": "code",
      "execution_count": 6,
      "metadata": {
        "colab": {
          "base_uri": "https://localhost:8080/"
        },
        "id": "kqGurTVHJm5k",
        "outputId": "a1548c7e-4f19-4e15-de17-fc2afc74e280"
      },
      "outputs": [
        {
          "name": "stdout",
          "output_type": "stream",
          "text": [
            "(2010, 2000, 1) (990, 2000, 1) (2010, 1, 1) (990, 1, 1)\n"
          ]
        }
      ],
      "source": [
        "######### Data shuffle with 2:1 splitting ratio CNN ##########\n",
        "\n",
        "from sklearn.model_selection import train_test_split\n",
        "X_train_CNN, X_val_CNN, y_train_CNN, y_val_CNN = train_test_split(features_CNN, target_CNN, test_size=0.33)\n",
        "print(X_train_CNN.shape, X_val_CNN.shape, y_train_CNN.shape, y_val_CNN.shape)\n",
        "del features_CNN, target_CNN"
      ]
    },
    {
      "cell_type": "code",
      "execution_count": 7,
      "metadata": {
        "id": "fx8ybFDjk8kd"
      },
      "outputs": [],
      "source": [
        "######## Keras imports for MLP and CNN #########\n",
        "\n",
        "from tensorflow.keras.models import Model\n",
        "from tensorflow.keras.layers import Dense, Input, Dropout, Flatten, Activation, Conv1D, AveragePooling1D\n",
        "from tensorflow.keras.utils import plot_model\n",
        "from tensorflow.keras import backend as K\n",
        "from tensorflow.keras import metrics\n",
        "from tensorflow.keras.callbacks import EarlyStopping, ReduceLROnPlateau, TerminateOnNaN"
      ]
    },
    {
      "cell_type": "markdown",
      "metadata": {
        "id": "tfiQ6pnak-ZY"
      },
      "source": [
        "# MLP model"
      ]
    },
    {
      "cell_type": "code",
      "execution_count": 23,
      "metadata": {
        "colab": {
          "base_uri": "https://localhost:8080/"
        },
        "id": "ssnXtUm4lLA3",
        "outputId": "a740f20f-5f3b-4045-fc8a-aa0838bf8f6a"
      },
      "outputs": [
        {
          "name": "stdout",
          "output_type": "stream",
          "text": [
            "Model: \"model_5\"\n",
            "_________________________________________________________________\n",
            " Layer (type)                Output Shape              Param #   \n",
            "=================================================================\n",
            " input_6 (InputLayer)        [(None, 2000)]            0         \n",
            "                                                                 \n",
            " dense_15 (Dense)            (None, 30)                60030     \n",
            "                                                                 \n",
            " dropout_10 (Dropout)        (None, 30)                0         \n",
            "                                                                 \n",
            " dense_16 (Dense)            (None, 30)                930       \n",
            "                                                                 \n",
            " activation_6 (Activation)   (None, 30)                0         \n",
            "                                                                 \n",
            " dropout_11 (Dropout)        (None, 30)                0         \n",
            "                                                                 \n",
            " dense_17 (Dense)            (None, 20)                620       \n",
            "                                                                 \n",
            " activation_7 (Activation)   (None, 20)                0         \n",
            "                                                                 \n",
            " dropout_12 (Dropout)        (None, 20)                0         \n",
            "                                                                 \n",
            " dense_18 (Dense)            (None, 1)                 21        \n",
            "                                                                 \n",
            "=================================================================\n",
            "Total params: 61,601\n",
            "Trainable params: 61,601\n",
            "Non-trainable params: 0\n",
            "_________________________________________________________________\n"
          ]
        }
      ],
      "source": [
        "input_shape = X_train_MLP.shape[1]\n",
        "dropoutRate = 0.25\n",
        "\n",
        "inputArray = Input(shape=(input_shape))\n",
        "\n",
        "######### FIRST LAYER ##########\n",
        "x = Dense(30, activation='relu')(inputArray)\n",
        "x = Dropout(dropoutRate)(x)\n",
        "\n",
        "######### SECOND LAYER ##########\n",
        "x = Dense(30)(x)\n",
        "x = Activation('relu')(x)\n",
        "x = Dropout(dropoutRate)(x)\n",
        "\n",
        "######### THIRD LAYER ##########\n",
        "x = Dense(20)(x)\n",
        "x = Activation('relu')(x)\n",
        "x = Dropout(dropoutRate)(x)\n",
        "\n",
        "output_MLP = Dense(1, activation='sigmoid')(x)\n",
        "\n",
        "model_MLP = Model(inputs=inputArray, outputs=output_MLP)\n",
        "\n",
        "\n",
        "model_MLP.compile(loss='binary_crossentropy', optimizer='adam')\n",
        "model_MLP.summary()"
      ]
    },
    {
      "cell_type": "code",
      "execution_count": 24,
      "metadata": {
        "colab": {
          "base_uri": "https://localhost:8080/"
        },
        "id": "9CE9qLxJlxg7",
        "outputId": "0e5f994e-7af5-43df-aa7f-51d700582af4"
      },
      "outputs": [
        {
          "name": "stdout",
          "output_type": "stream",
          "text": [
            "Epoch 1/50\n",
            "16/16 - 2s - loss: 0.6991 - val_loss: 0.6843 - lr: 0.0010 - 2s/epoch - 118ms/step\n",
            "Epoch 2/50\n",
            "16/16 - 0s - loss: 0.6760 - val_loss: 0.6741 - lr: 0.0010 - 99ms/epoch - 6ms/step\n",
            "Epoch 3/50\n",
            "16/16 - 0s - loss: 0.6628 - val_loss: 0.6655 - lr: 0.0010 - 99ms/epoch - 6ms/step\n",
            "Epoch 4/50\n",
            "16/16 - 0s - loss: 0.6505 - val_loss: 0.6586 - lr: 0.0010 - 103ms/epoch - 6ms/step\n",
            "Epoch 5/50\n",
            "16/16 - 0s - loss: 0.6402 - val_loss: 0.6546 - lr: 0.0010 - 107ms/epoch - 7ms/step\n",
            "Epoch 6/50\n",
            "16/16 - 0s - loss: 0.6367 - val_loss: 0.6532 - lr: 0.0010 - 103ms/epoch - 6ms/step\n",
            "Epoch 7/50\n",
            "16/16 - 0s - loss: 0.6322 - val_loss: 0.6535 - lr: 0.0010 - 101ms/epoch - 6ms/step\n",
            "Epoch 8/50\n",
            "\n",
            "Epoch 8: ReduceLROnPlateau reducing learning rate to 0.00010000000474974513.\n",
            "16/16 - 0s - loss: 0.6263 - val_loss: 0.6546 - lr: 0.0010 - 105ms/epoch - 7ms/step\n",
            "Epoch 9/50\n",
            "16/16 - 0s - loss: 0.6311 - val_loss: 0.6547 - lr: 1.0000e-04 - 111ms/epoch - 7ms/step\n",
            "Epoch 10/50\n",
            "\n",
            "Epoch 10: ReduceLROnPlateau reducing learning rate to 1.0000000474974514e-05.\n",
            "16/16 - 0s - loss: 0.6305 - val_loss: 0.6548 - lr: 1.0000e-04 - 106ms/epoch - 7ms/step\n",
            "Epoch 11/50\n",
            "16/16 - 0s - loss: 0.6316 - val_loss: 0.6548 - lr: 1.0000e-05 - 99ms/epoch - 6ms/step\n",
            "Epoch 12/50\n",
            "\n",
            "Epoch 12: ReduceLROnPlateau reducing learning rate to 1.0000000656873453e-06.\n",
            "16/16 - 0s - loss: 0.6316 - val_loss: 0.6548 - lr: 1.0000e-05 - 105ms/epoch - 7ms/step\n",
            "Epoch 13/50\n",
            "16/16 - 0s - loss: 0.6290 - val_loss: 0.6548 - lr: 1.0000e-06 - 95ms/epoch - 6ms/step\n",
            "Epoch 14/50\n",
            "\n",
            "Epoch 14: ReduceLROnPlateau reducing learning rate to 1.0000001111620805e-07.\n",
            "16/16 - 0s - loss: 0.6281 - val_loss: 0.6548 - lr: 1.0000e-06 - 104ms/epoch - 7ms/step\n",
            "Epoch 15/50\n",
            "16/16 - 0s - loss: 0.6308 - val_loss: 0.6548 - lr: 1.0000e-07 - 101ms/epoch - 6ms/step\n",
            "Epoch 16/50\n",
            "\n",
            "Epoch 16: ReduceLROnPlateau reducing learning rate to 1.000000082740371e-08.\n",
            "16/16 - 0s - loss: 0.6281 - val_loss: 0.6548 - lr: 1.0000e-07 - 147ms/epoch - 9ms/step\n",
            "Epoch 16: early stopping\n"
          ]
        }
      ],
      "source": [
        "batch_size = 128\n",
        "n_epochs = 50\n",
        "\n",
        "# train\n",
        "history = model_MLP.fit(X_train_MLP, y_train_MLP, epochs=n_epochs, batch_size=batch_size, verbose = 2,\n",
        "                validation_data=(X_val_MLP, y_val_MLP),\n",
        "                callbacks = [\n",
        "                EarlyStopping(monitor='val_loss', patience=10, verbose=1),\n",
        "                ReduceLROnPlateau(monitor='val_loss', factor=0.1, patience=2, verbose=1),\n",
        "                TerminateOnNaN()])"
      ]
    },
    {
      "cell_type": "markdown",
      "metadata": {
        "id": "Mz1TM4QfmAew"
      },
      "source": [
        "# Results MLP"
      ]
    },
    {
      "cell_type": "code",
      "execution_count": 25,
      "metadata": {
        "colab": {
          "base_uri": "https://localhost:8080/",
          "height": 472
        },
        "id": "D8EowJxhmEMY",
        "outputId": "ba9c766e-7171-469e-e277-f48b34c106c1"
      },
      "outputs": [
        {
          "data": {
            "image/png": "[encoded data removed]",
            "text/plain": [
              "<Figure size 640x480 with 1 Axes>"
            ]
          },
          "metadata": {},
          "output_type": "display_data"
        }
      ],
      "source": [
        "# plot training history\n",
        "plt.plot(history.history['loss'])\n",
        "plt.plot(history.history['val_loss'])\n",
        "plt.yscale('log')\n",
        "plt.title('Training History')\n",
        "plt.ylabel('loss')\n",
        "plt.xlabel('epoch')\n",
        "plt.legend(['training', 'validation'], loc='upper right')\n",
        "plt.show()"
      ]
    },
    {
      "cell_type": "code",
      "execution_count": 11,
      "metadata": {
        "colab": {
          "base_uri": "https://localhost:8080/",
          "height": 509
        },
        "id": "uEtsIC_DmJkw",
        "outputId": "eb947dd0-6af5-49d1-88ec-3939ecc0251f"
      },
      "outputs": [
        {
          "name": "stdout",
          "output_type": "stream",
          "text": [
            "31/31 [==============================] - 0s 2ms/step\n"
          ]
        },
        {
          "name": "stderr",
          "output_type": "stream",
          "text": [
            "WARNING:matplotlib.legend:No artists with labels found to put in legend.  Note that artists whose label start with an underscore are ignored when legend() is called with no argument.\n"
          ]
        },
        {
          "data": {
            "image/png": "[encoded data removed]",
            "text/plain": [
              "<Figure size 640x480 with 1 Axes>"
            ]
          },
          "metadata": {},
          "output_type": "display_data"
        },
        {
          "name": "stdout",
          "output_type": "stream",
          "text": [
            "0.5\n"
          ]
        }
      ],
      "source": [
        "from sklearn.metrics import roc_curve, auc\n",
        "\n",
        "predict_val_MLP = model_MLP.predict(X_val_MLP)\n",
        "\n",
        "fpr_MLP = {}\n",
        "tpr_MLP = {}\n",
        "auc_MLP = {}\n",
        "#label='%s tagger, auc = %.1f%%'%(label,auc1[label]*100.)\n",
        "#plt.figure()\n",
        "fpr_MLP, tpr_MLP, threshold = roc_curve(y_val_MLP, predict_val_MLP)\n",
        "auc_MLP = auc(fpr_MLP, tpr_MLP)\n",
        "\n",
        "plt.plot(tpr_MLP, fpr_MLP)\n",
        "plt.semilogy()\n",
        "plt.xlabel(\"sig. efficiency\")\n",
        "plt.ylabel(\"bkg. mistag rate\")\n",
        "plt.ylim(0.000001,1)\n",
        "plt.grid(True)\n",
        "plt.legend(loc='lower right')\n",
        "plt.show()\n",
        "\n",
        "print(auc_MLP)"
      ]
    },
    {
      "cell_type": "markdown",
      "metadata": {
        "id": "gHWvE9MaFAXd"
      },
      "source": [
        "# CNN model"
      ]
    },
    {
      "cell_type": "code",
      "execution_count": 12,
      "metadata": {
        "colab": {
          "base_uri": "https://localhost:8080/"
        },
        "id": "_VkPyGJPFMzX",
        "outputId": "c5040b6c-196b-4eb4-ae71-5f36d7cc587e"
      },
      "outputs": [
        {
          "name": "stdout",
          "output_type": "stream",
          "text": [
            "Model: \"model_1\"\n",
            "_________________________________________________________________\n",
            " Layer (type)                Output Shape              Param #   \n",
            "=================================================================\n",
            " input_2 (InputLayer)        [(None, 2000, 1)]         0         \n",
            "                                                                 \n",
            " conv1d (Conv1D)             (None, 1998, 5)           20        \n",
            "                                                                 \n",
            " average_pooling1d (AverageP  (None, 666, 5)           0         \n",
            " ooling1D)                                                       \n",
            "                                                                 \n",
            " conv1d_1 (Conv1D)           (None, 664, 10)           160       \n",
            "                                                                 \n",
            " average_pooling1d_1 (Averag  (None, 221, 10)          0         \n",
            " ePooling1D)                                                     \n",
            "                                                                 \n",
            " flatten (Flatten)           (None, 2210)              0         \n",
            "                                                                 \n",
            " dense_4 (Dense)             (None, 1)                 2211      \n",
            "                                                                 \n",
            "=================================================================\n",
            "Total params: 2,391\n",
            "Trainable params: 2,391\n",
            "Non-trainable params: 0\n",
            "_________________________________________________________________\n"
          ]
        }
      ],
      "source": [
        "featureArrayLength = (X_train_CNN.shape[1],X_train_CNN.shape[2])\n",
        "dropoutRate = 0.25\n",
        "\n",
        "####\n",
        "inputList = Input(shape=(featureArrayLength))\n",
        "x = Conv1D(5, kernel_size=3, data_format=\"channels_last\", strides=1, padding=\"valid\", activation='relu')(inputList)\n",
        "x = AveragePooling1D(pool_size=3)(x)\n",
        "#\n",
        "x = Conv1D(10, kernel_size=3, data_format=\"channels_last\", strides=1, padding=\"valid\", activation='relu')(x)\n",
        "x = AveragePooling1D(pool_size=3)(x)\n",
        "\"\"\"#\n",
        "x = Conv1D(60, kernel_size=2, data_format=\"channels_last\", strides=1, padding=\"valid\", activation='relu')(x)\n",
        "x = AveragePooling1D(pool_size=9)(x)\n",
        "#\"\"\"\n",
        "x = Flatten()(x)\n",
        "#x = Dense(20, activation='relu')(x)\n",
        "#x = Dropout(dropoutRate)(x)\n",
        "#x = Dense(10, activation='relu')(x)\n",
        "#x = Dropout(dropoutRate)(x)\n",
        "output_CNN = Dense(1, activation='sigmoid')(x)\n",
        "####\n",
        "model_CNN = Model(inputs=inputList, outputs=output_CNN)\n",
        "\n",
        "model_CNN.compile(loss='binary_crossentropy', optimizer='adam')\n",
        "model_CNN.summary()"
      ]
    },
    {
      "cell_type": "code",
      "execution_count": 13,
      "metadata": {
        "colab": {
          "base_uri": "https://localhost:8080/"
        },
        "id": "js4mv9J_MWE5",
        "outputId": "f3bef73b-79e0-4b03-b668-53eb31288b26"
      },
      "outputs": [
        {
          "name": "stdout",
          "output_type": "stream",
          "text": [
            "Epoch 1/100\n",
            "16/16 - 6s - loss: 0.6898 - val_loss: 0.6779 - lr: 0.0010 - 6s/epoch - 392ms/step\n",
            "Epoch 2/100\n",
            "16/16 - 0s - loss: 0.6668 - val_loss: 0.6436 - lr: 0.0010 - 163ms/epoch - 10ms/step\n",
            "Epoch 3/100\n",
            "16/16 - 0s - loss: 0.6045 - val_loss: 0.5523 - lr: 0.0010 - 122ms/epoch - 8ms/step\n",
            "Epoch 4/100\n",
            "16/16 - 0s - loss: 0.4877 - val_loss: 0.4188 - lr: 0.0010 - 127ms/epoch - 8ms/step\n",
            "Epoch 5/100\n",
            "16/16 - 0s - loss: 0.3613 - val_loss: 0.3157 - lr: 0.0010 - 120ms/epoch - 8ms/step\n",
            "Epoch 6/100\n",
            "16/16 - 0s - loss: 0.2833 - val_loss: 0.2586 - lr: 0.0010 - 122ms/epoch - 8ms/step\n",
            "Epoch 7/100\n",
            "16/16 - 0s - loss: 0.2257 - val_loss: 0.2236 - lr: 0.0010 - 132ms/epoch - 8ms/step\n",
            "Epoch 8/100\n",
            "16/16 - 0s - loss: 0.1948 - val_loss: 0.2043 - lr: 0.0010 - 116ms/epoch - 7ms/step\n",
            "Epoch 9/100\n",
            "16/16 - 0s - loss: 0.1810 - val_loss: 0.1935 - lr: 0.0010 - 122ms/epoch - 8ms/step\n",
            "Epoch 10/100\n",
            "16/16 - 0s - loss: 0.1650 - val_loss: 0.1804 - lr: 0.0010 - 124ms/epoch - 8ms/step\n",
            "Epoch 11/100\n",
            "16/16 - 0s - loss: 0.1491 - val_loss: 0.1646 - lr: 0.0010 - 123ms/epoch - 8ms/step\n",
            "Epoch 12/100\n",
            "16/16 - 0s - loss: 0.1413 - val_loss: 0.1568 - lr: 0.0010 - 137ms/epoch - 9ms/step\n",
            "Epoch 13/100\n",
            "16/16 - 0s - loss: 0.1331 - val_loss: 0.1485 - lr: 0.0010 - 161ms/epoch - 10ms/step\n",
            "Epoch 14/100\n",
            "16/16 - 0s - loss: 0.1240 - val_loss: 0.1420 - lr: 0.0010 - 121ms/epoch - 8ms/step\n",
            "Epoch 15/100\n",
            "16/16 - 0s - loss: 0.1226 - val_loss: 0.1433 - lr: 0.0010 - 121ms/epoch - 8ms/step\n",
            "Epoch 16/100\n",
            "16/16 - 0s - loss: 0.1209 - val_loss: 0.1363 - lr: 0.0010 - 117ms/epoch - 7ms/step\n",
            "Epoch 17/100\n",
            "16/16 - 0s - loss: 0.1105 - val_loss: 0.1293 - lr: 0.0010 - 162ms/epoch - 10ms/step\n",
            "Epoch 18/100\n",
            "16/16 - 0s - loss: 0.1058 - val_loss: 0.1268 - lr: 0.0010 - 164ms/epoch - 10ms/step\n",
            "Epoch 19/100\n",
            "16/16 - 0s - loss: 0.1041 - val_loss: 0.1252 - lr: 0.0010 - 157ms/epoch - 10ms/step\n",
            "Epoch 20/100\n",
            "16/16 - 0s - loss: 0.1075 - val_loss: 0.1371 - lr: 0.0010 - 158ms/epoch - 10ms/step\n",
            "Epoch 21/100\n",
            "16/16 - 0s - loss: 0.1017 - val_loss: 0.1225 - lr: 0.0010 - 137ms/epoch - 9ms/step\n",
            "Epoch 22/100\n",
            "16/16 - 0s - loss: 0.0967 - val_loss: 0.1184 - lr: 0.0010 - 134ms/epoch - 8ms/step\n",
            "Epoch 23/100\n",
            "16/16 - 0s - loss: 0.0954 - val_loss: 0.1187 - lr: 0.0010 - 160ms/epoch - 10ms/step\n",
            "Epoch 24/100\n",
            "16/16 - 0s - loss: 0.0947 - val_loss: 0.1171 - lr: 0.0010 - 127ms/epoch - 8ms/step\n",
            "Epoch 25/100\n",
            "16/16 - 0s - loss: 0.0923 - val_loss: 0.1248 - lr: 0.0010 - 117ms/epoch - 7ms/step\n",
            "Epoch 26/100\n",
            "16/16 - 0s - loss: 0.0985 - val_loss: 0.1137 - lr: 0.0010 - 116ms/epoch - 7ms/step\n",
            "Epoch 27/100\n",
            "16/16 - 0s - loss: 0.0925 - val_loss: 0.1295 - lr: 0.0010 - 119ms/epoch - 7ms/step\n",
            "Epoch 28/100\n",
            "\n",
            "Epoch 28: ReduceLROnPlateau reducing learning rate to 0.00010000000474974513.\n",
            "16/16 - 0s - loss: 0.0911 - val_loss: 0.1139 - lr: 0.0010 - 117ms/epoch - 7ms/step\n",
            "Epoch 29/100\n",
            "16/16 - 0s - loss: 0.0897 - val_loss: 0.1135 - lr: 1.0000e-04 - 163ms/epoch - 10ms/step\n",
            "Epoch 30/100\n",
            "16/16 - 0s - loss: 0.0880 - val_loss: 0.1120 - lr: 1.0000e-04 - 119ms/epoch - 7ms/step\n",
            "Epoch 31/100\n",
            "16/16 - 0s - loss: 0.0879 - val_loss: 0.1119 - lr: 1.0000e-04 - 119ms/epoch - 7ms/step\n",
            "Epoch 32/100\n",
            "\n",
            "Epoch 32: ReduceLROnPlateau reducing learning rate to 1.0000000474974514e-05.\n",
            "16/16 - 0s - loss: 0.0876 - val_loss: 0.1121 - lr: 1.0000e-04 - 135ms/epoch - 8ms/step\n",
            "Epoch 33/100\n",
            "16/16 - 0s - loss: 0.0875 - val_loss: 0.1120 - lr: 1.0000e-05 - 157ms/epoch - 10ms/step\n",
            "Epoch 34/100\n",
            "\n",
            "Epoch 34: ReduceLROnPlateau reducing learning rate to 1.0000000656873453e-06.\n",
            "16/16 - 0s - loss: 0.0875 - val_loss: 0.1120 - lr: 1.0000e-05 - 165ms/epoch - 10ms/step\n",
            "Epoch 35/100\n",
            "16/16 - 0s - loss: 0.0875 - val_loss: 0.1120 - lr: 1.0000e-06 - 141ms/epoch - 9ms/step\n",
            "Epoch 36/100\n",
            "\n",
            "Epoch 36: ReduceLROnPlateau reducing learning rate to 1.0000001111620805e-07.\n",
            "16/16 - 0s - loss: 0.0875 - val_loss: 0.1120 - lr: 1.0000e-06 - 161ms/epoch - 10ms/step\n",
            "Epoch 37/100\n",
            "16/16 - 0s - loss: 0.0875 - val_loss: 0.1120 - lr: 1.0000e-07 - 123ms/epoch - 8ms/step\n",
            "Epoch 38/100\n",
            "\n",
            "Epoch 38: ReduceLROnPlateau reducing learning rate to 1.000000082740371e-08.\n",
            "16/16 - 0s - loss: 0.0875 - val_loss: 0.1120 - lr: 1.0000e-07 - 119ms/epoch - 7ms/step\n",
            "Epoch 39/100\n",
            "16/16 - 0s - loss: 0.0875 - val_loss: 0.1120 - lr: 1.0000e-08 - 126ms/epoch - 8ms/step\n",
            "Epoch 40/100\n",
            "\n",
            "Epoch 40: ReduceLROnPlateau reducing learning rate to 1.000000082740371e-09.\n",
            "16/16 - 0s - loss: 0.0875 - val_loss: 0.1120 - lr: 1.0000e-08 - 119ms/epoch - 7ms/step\n",
            "Epoch 41/100\n",
            "16/16 - 0s - loss: 0.0875 - val_loss: 0.1120 - lr: 1.0000e-09 - 126ms/epoch - 8ms/step\n",
            "Epoch 41: early stopping\n"
          ]
        }
      ],
      "source": [
        "batch_size = 128\n",
        "n_epochs = 100\n",
        "\n",
        "# train\n",
        "history = model_CNN.fit(X_train_CNN, y_train_CNN, epochs=n_epochs, batch_size=batch_size, verbose = 2,\n",
        "                validation_data=(X_val_CNN, y_val_CNN),\n",
        "                callbacks = [\n",
        "                EarlyStopping(monitor='val_loss', patience=10, verbose=1),\n",
        "                ReduceLROnPlateau(monitor='val_loss', factor=0.1, patience=2, verbose=1),\n",
        "                TerminateOnNaN()])"
      ]
    },
    {
      "cell_type": "markdown",
      "metadata": {
        "id": "_M9lqEiiMfKj"
      },
      "source": [
        "# CNN results"
      ]
    },
    {
      "cell_type": "code",
      "execution_count": 14,
      "metadata": {
        "colab": {
          "base_uri": "https://localhost:8080/",
          "height": 472
        },
        "id": "o0Qo-8wTMiUo",
        "outputId": "b3d6cac6-d3c0-43c5-ca35-4863849a5a98"
      },
      "outputs": [
        {
          "data": {
            "image/png": "[encoded data removed]",
            "text/plain": [
              "<Figure size 640x480 with 1 Axes>"
            ]
          },
          "metadata": {},
          "output_type": "display_data"
        }
      ],
      "source": [
        "# plot training history\n",
        "plt.plot(history.history['loss'])\n",
        "plt.plot(history.history['val_loss'])\n",
        "plt.yscale('log')\n",
        "plt.title('Training History')\n",
        "plt.ylabel('loss')\n",
        "plt.xlabel('epoch')\n",
        "plt.legend(['training', 'validation'], loc='upper right')\n",
        "plt.show()"
      ]
    },
    {
      "cell_type": "code",
      "execution_count": 15,
      "metadata": {
        "colab": {
          "base_uri": "https://localhost:8080/",
          "height": 509
        },
        "id": "5x4uCjwrtysS",
        "outputId": "3f020960-991d-49eb-8b02-c1e345d11bdf"
      },
      "outputs": [
        {
          "name": "stdout",
          "output_type": "stream",
          "text": [
            "31/31 [==============================] - 0s 3ms/step\n"
          ]
        },
        {
          "name": "stderr",
          "output_type": "stream",
          "text": [
            "WARNING:matplotlib.legend:No artists with labels found to put in legend.  Note that artists whose label start with an underscore are ignored when legend() is called with no argument.\n"
          ]
        },
        {
          "data": {
            "image/png": "[encoded data removed]",
            "text/plain": [
              "<Figure size 640x480 with 1 Axes>"
            ]
          },
          "metadata": {},
          "output_type": "display_data"
        },
        {
          "name": "stdout",
          "output_type": "stream",
          "text": [
            "0.991267217630854\n"
          ]
        }
      ],
      "source": [
        "from sklearn.metrics import roc_curve, auc\n",
        "\n",
        "predict_val_CNN = model_CNN.predict(X_val_CNN)\n",
        "y_val_CNN = np.reshape(y_val_CNN,(990,1))\n",
        "fpr_CNN = {}\n",
        "tpr_CNN = {}\n",
        "auc_CNN = {}\n",
        "#label='%s tagger, auc = %.1f%%'%(label,auc1[label]*100.)\n",
        "#plt.figure()\n",
        "fpr_CNN, tpr_CNN, threshold = roc_curve(y_val_CNN, predict_val_CNN)\n",
        "auc_CNN = auc(fpr_CNN, tpr_CNN)\n",
        "\n",
        "plt.plot(tpr_CNN, fpr_CNN)\n",
        "plt.semilogy()\n",
        "plt.xlabel(\"sig. efficiency\")\n",
        "plt.ylabel(\"bkg. mistag rate\")\n",
        "plt.ylim(0.000001,1)\n",
        "plt.grid(True)\n",
        "plt.legend(loc='lower right')\n",
        "plt.show()\n",
        "\n",
        "print(auc_CNN)"
      ]
    }
  ],
  "metadata": {
    "accelerator": "GPU",
    "colab": {
      "gpuType": "T4",
      "provenance": []
    },
    "kernelspec": {
      "display_name": "Python 3",
      "name": "python3"
    },
    "language_info": {
      "name": "python"
    }
  },
  "nbformat": 4,
  "nbformat_minor": 0
}
